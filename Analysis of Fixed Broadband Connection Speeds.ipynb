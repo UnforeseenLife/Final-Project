{
 "cells": [
  {
   "cell_type": "markdown",
   "metadata": {},
   "source": [
    "### Analysis of Fixed Broadband Connection Speeds\n",
    "\n",
    "David Kahn <br>\n",
    "Final Project <br>\n",
    "1/9/2017 <br>\n"
   ]
  },
  {
   "cell_type": "markdown",
   "metadata": {},
   "source": [
    "# WARNING!!!\n",
    "This code will take a long time to run, and requires much of your computer’s hard drive read/write time, as well as most (depending on how much is available) of your ram. I have run the file to the extent that I think necessary to show the data, but if you choose to run it, you do so at your own risk. I, David Kahn, take no responsibility for any information lost, or any other unwanted occurrence, due to the system crashing, or some other unwanted event caused by the program’s needs. To change how much data is run, you can change the numofrows and numofreads variables. numofrows tells the computer how many rows it should read from the csv file at a time (this most signifiantly impacts computer performance). numofreads tells the computer how many iterations of numofrows you want to read. For example, choosing 1,000 for numofrows and 10 for numofreads, will tell the computer to read 1,000 rows of the csv and do so 10 times, essentially reading 10,000 rows of the data. I have selected 5,000,000 for numofrows and 10 for numofreads, totaling up to a staggering 50,000,000 rows of the data.\n",
    "\n",
    "To ensure that the program leaves as little information as possible in the systems memory, I have cleared all of the clearable files that the program is using and storing in ram. This is done with gc.collect() which is a python function that forces python to release (delete) what information it can that is being stored in the system memory by the program (this does not impact any other part of the system, only what is being used for the program itself). If for some reason gc.collect() does not function as I expected it would, and causes an unwanted occurrence, I, David Kahn, take no responcibility for any damage of any kind that was caused by the use of the previously listed function.\n",
    "\n",
    "You, the user of this program, take full responcibility for any of your actions following this warning, and recognise the possible outcomes of running the code. If you do not accept these conditions, then do not continue. If you do agree to these conditions, then I hope that you find the information to be as fascinating as I do. \n",
    "\n",
    "If you would like to download the file (it is too large (10.5GB) to submit to GitHub), then go to http://transition.fcc.gov/form477/BroadbandData/Fixed/Dec15/Version%202/US-Fixed-with-Satellite-Dec2015.zip\n",
    "<br>\n",
    "Then unzip the file and place it in the same folder as this program file."
   ]
  },
  {
   "cell_type": "markdown",
   "metadata": {},
   "source": [
    "<br>\n",
    "<br>\n",
    "In This project, I analyze the relationship between a states average internet speed, and its average household yearly income. Knowing this information could potentially be useful for ISP's to know in order to offer different prices for data speeds for each state. It culd also be useful for homeowners to know so they can take into account the internet speed to their house, and how much they make, in order to find the least costly way to get a high speed."
   ]
  },
  {
   "cell_type": "code",
   "execution_count": 29,
   "metadata": {
    "collapsed": false
   },
   "outputs": [
    {
     "name": "stdout",
     "output_type": "stream",
     "text": [
      "0\n",
      "section  0  read confirmed\n",
      "section  0  value storage confirmed\n",
      "1\n",
      "section  1  read confirmed\n",
      "section  1  value storage confirmed\n",
      "2\n",
      "section  2  read confirmed\n",
      "section  2  value storage confirmed\n",
      "3\n",
      "section  3  read confirmed\n",
      "section  3  value storage confirmed\n",
      "4\n",
      "section  4  read confirmed\n",
      "section  4  value storage confirmed\n",
      "5\n",
      "section  5  read confirmed\n",
      "section  5  value storage confirmed\n",
      "6\n",
      "section  6  read confirmed\n",
      "section  6  value storage confirmed\n",
      "7\n",
      "section  7  read confirmed\n",
      "section  7  value storage confirmed\n",
      "8\n",
      "section  8  read confirmed\n",
      "section  8  value storage confirmed\n",
      "9\n",
      "section  9  read confirmed\n",
      "section  9  value storage confirmed\n",
      "47.4867241961 AL\n",
      "47.0203039298 AK\n",
      "33.4275913599 AZ\n",
      "45.4856025972 AR\n",
      "29.213537086 CA\n",
      "32.8621958224 CO\n",
      "31.9813226645 CT\n",
      "26.7096569831 DE\n",
      "37.4577570673 FL\n",
      "45.3510599006 GA\n",
      "11.5498113349 HI\n",
      "28.6484686955 ID\n",
      "18.9465006968 IL\n",
      "34.1364502464 IN\n",
      "25.2669466474 IA\n",
      "30.4519855873 KS\n",
      "32.7668944395 KY\n",
      "74.9154717027 LA\n",
      "14.9600077451 ME\n",
      "22.5508256085 MD\n",
      "26.0682504799 MA\n",
      "25.1610787698 MI\n",
      "43.7166032594 MN\n",
      "30.4614624746 MS\n",
      "69.0556380272 MO\n",
      "16.4293603568 MT\n",
      "26.8897236133 NE\n",
      "40.9197690682 NV\n",
      "58.0105193357 NH\n",
      "20.14498802 NJ\n",
      "25.4329390689 NM\n",
      "26.3141036997 NY\n",
      "72.3972754313 NC\n",
      "72.8105887897 ND\n",
      "11.7493256638 OH\n",
      "22.1375491919 OK\n",
      "53.5064536976 OR\n",
      "37.8139622528 PA\n",
      "20.5651394114 RI\n",
      "34.6630755959 SC\n",
      "57.5797689304 SD\n",
      "69.2540666939 TN\n",
      "32.4376193131 TX\n",
      "59.3114313051 UT\n",
      "51.8939928005 VT\n",
      "35.0634608572 VA\n",
      "50.6082156554 WA\n",
      "54.7710314296 WV\n",
      "22.5043772286 WI\n",
      "20.2581913862 WY\n",
      "Elapsed total time :  699.1525855064392\n"
     ]
    }
   ],
   "source": [
    "#imports\n",
    "import time \n",
    "import csv\n",
    "import statistics as st\n",
    "import matplotlib.pyplot as plt\n",
    "import numpy as np\n",
    "import pandas as pd\n",
    "import gc\n",
    "% matplotlib inline\n",
    "\n",
    "\n",
    "#keeping track of time\n",
    "t0 = time.time();\n",
    "\n",
    "\n",
    "#create dict of state abbreviations\n",
    "StateList = [\"AL\", \"AK\", \"AZ\", \"AR\", \"CA\", \"CO\", \"CT\", \"DE\", \"FL\", \"GA\", \"HI\", \"ID\", \"IL\", \"IN\", \"IA\", \"KS\", \"KY\", \"LA\", \"ME\", \"MD\", \"MA\", \"MI\", \"MN\", \"MS\", \"MO\", \"MT\", \"NE\", \"NV\", \"NH\", \"NJ\", \"NM\", \"NY\", \"NC\", \"ND\", \"OH\", \"OK\", \"OR\", \"PA\", \"RI\", \"SC\", \"SD\", \"TN\", \"TX\", \"UT\", \"VT\", \"VA\", \"WA\", \"WV\", \"WI\", \"WY\"];\n",
    "\n",
    "\n",
    "def maxdown (all_data_file, abbrevlist):\n",
    "    data = all_data_file.query('StateAbbr in @abbrevlist'); #if want to specify range use  & MaxAdDown >= 15 <= 100\n",
    "    try:\n",
    "        return(st.mean(data[\"MaxAdDown\"]));\n",
    "    except:\n",
    "        return(0);\n",
    "    \n",
    "numofrows = 5000000;\n",
    "numofreads = 10;\n",
    "#failedreads = 0;\n",
    "\n",
    "avglist = [];\n",
    "numlist = [];\n",
    "\n",
    "for i in range(50):\n",
    "    avglist.append(0);\n",
    "    numlist.append(i);\n",
    "\n",
    "for amount in range(numofreads):\n",
    "    print(amount);\n",
    "    #file reading\n",
    "    #Data from https://www.fcc.gov/general/broadband-deployment-data-fcc-form-477\n",
    "    #encoding method from http://stackoverflow.com/questions/18171739/unicodedecodeerror-when-reading-csv-file-in-pandas-with-python by user Stefan.\n",
    "    #skipping rows method from http://stackoverflow.com/questions/27325652/python-pandas-read-csv-skip-rows-but-keep-header by user ajcr.\n",
    "    all_data_file = pd.read_csv(\"fbd_us_with_satellite_dec2015_v2.csv\", encoding = \"ISO-8859-1\", skiprows=range(1, numofrows*amount), nrows=numofrows, skip_blank_lines=True);\n",
    "    print('section ', amount, ' read confirmed');\n",
    "    for val in range(len(StateList)):\n",
    "        tmplst = [''];\n",
    "        tmplst[0] = StateList[val];\n",
    "        #print('state: ', StateList[val], ' ', maxdown(all_data_file, tmplst));\n",
    "        avglist[val] = avglist[val] + maxdown(all_data_file, tmplst)\n",
    "        #if maxdown(all_data_file, tmplst) == 0:\n",
    "            #failedreads = failedreads + 1;\n",
    "        #print('section ', amount, ' state ', val, ' confirmed');\n",
    "    print('section ', amount, ' value storage confirmed');\n",
    "    \n",
    "    \n",
    "for j in range(len(avglist)):\n",
    "    avglist[j] = avglist[j]/numofreads;#-failedreads);\n",
    "\n",
    "for k in range(len(avglist)):\n",
    "    print(avglist[k], StateList[k]);\n",
    "\n",
    "#print elapsed time\n",
    "print('Elapsed total time : ', time.time() - t0);\n",
    "\n",
    "#to ensure that ram is not used up even if program is not running, clears all stored data from program in ram.\n",
    "#idea from http://stackoverflow.com/questions/32247643/how-to-delete-multiple-pandas-python-dataframes-from-memory-to-save-ram from user shanmuga\n",
    "gc.collect();"
   ]
  },
  {
   "cell_type": "code",
   "execution_count": 53,
   "metadata": {
    "collapsed": false
   },
   "outputs": [
    {
     "name": "stdout",
     "output_type": "stream",
     "text": [
      "The data has a correlation coefficient (r-value) of -0.0702078170984\n"
     ]
    },
    {
     "data": {
      "image/png": "[encoded data removed]",
      "text/plain": [
       "<matplotlib.figure.Figure at 0x24408e83ef0>"
      ]
     },
     "metadata": {},
     "output_type": "display_data"
    }
   ],
   "source": [
    "import scipy.stats as ss\n",
    "\n",
    "raw_data = open(\"raw_data.csv\", \"r\", errors=\"ignore\");\n",
    "#file was edited for convenience, so that all that is being iterated through is the values, none of the descriptions\n",
    "\n",
    "incomelist = [];\n",
    "\n",
    "for i in raw_data:\n",
    "    incomelist.append(i);\n",
    "\n",
    "for j in raw_data:\n",
    "    incomelist[j] = incomelist[j].split(\",\");\n",
    "\n",
    "for m in range(len(incomelist)):\n",
    "    incomelist[m] = incomelist[m].split(\",\");\n",
    "    \n",
    "incomeval = [];\n",
    "\n",
    "for n in range(len(incomelist)):\n",
    "    incomeval.append(incomelist[n][1]);\n",
    "\n",
    "for o in range(len(incomeval)):\n",
    "    incomeval[o] = incomeval[o].split(\"\\n\");\n",
    "    \n",
    "for p in range(len(incomeval)):\n",
    "    incomeval[p] = float(incomeval[p][0]);\n",
    "\n",
    "plt.figure(figsize=(6,6));\n",
    "plt.xlabel(\"Average State Internet Speed (Mb/s)\")\n",
    "plt.ylabel(\"Average State Household Yearly Income ($)\")\n",
    "plt.title(\"Dot Plot of State Average Yearly Household Income and Average State Internet Speed\")\n",
    "plt.scatter(avglist, incomeval);\n",
    "\n",
    "stats = ss.linregress(avglist, incomeval);\n",
    "print(\"The data has a correlation coefficient (r-value) of\", stats[2]);"
   ]
  },
  {
   "cell_type": "markdown",
   "metadata": {
    "collapsed": true
   },
   "source": [
    "In the dot plot shown above, it is evident that internet speed and average household yearly income have little to no affect on each other. With a correlation coefficient of -0.070... using a linear regression, the data has neither an increase/decrease caused by a change in the other. Indeed the correlation coefficient is negative, however this is by such a small amount that it can be considered negligable for this circumstance. What this plot does show us however, is that there are other leading factors to the average internet speed in a state. One of these could be the number of tech companies. If there is a high number of tech companies, then there tends to be an increase in the state average internet speed because those companies count as internet users, as well as an increase in the speeds of the surrounding area of a tech company."
   ]
  },
  {
   "cell_type": "code",
   "execution_count": null,
   "metadata": {
    "collapsed": true
   },
   "outputs": [],
   "source": []
  }
 ],
 "metadata": {
  "anaconda-cloud": {},
  "kernelspec": {
   "display_name": "Python [Root]",
   "language": "python",
   "name": "Python [Root]"
  },
  "language_info": {
   "codemirror_mode": {
    "name": "ipython",
    "version": 3
   },
   "file_extension": ".py",
   "mimetype": "text/x-python",
   "name": "python",
   "nbconvert_exporter": "python",
   "pygments_lexer": "ipython3",
   "version": "3.5.2"
  }
 },
 "nbformat": 4,
 "nbformat_minor": 0
}
